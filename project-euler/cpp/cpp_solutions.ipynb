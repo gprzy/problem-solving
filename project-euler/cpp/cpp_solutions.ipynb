{
 "cells": [
  {
   "cell_type": "code",
   "execution_count": 1,
   "metadata": {},
   "outputs": [],
   "source": [
    "!mkdir exe"
   ]
  },
  {
   "cell_type": "markdown",
   "metadata": {},
   "source": [
    "```\n",
    "# 1. Multiples of 3 or 5\n",
    "\n",
    "If we list all the natural numbers below 10 that are multiples of 3 or 5, \n",
    "we get 3, 5, 6 and 9. The sum of these multiples is 23.\n",
    "Find the sum of all the multiples of 3 or 5 below 1000.\n",
    "```"
   ]
  },
  {
   "cell_type": "code",
   "execution_count": 2,
   "metadata": {},
   "outputs": [
    {
     "name": "stdout",
     "output_type": "stream",
     "text": [
      "233168"
     ]
    }
   ],
   "source": [
    "!g++ -o exe/problem_1 problem_1.cpp\n",
    "!./exe/problem_1"
   ]
  },
  {
   "cell_type": "markdown",
   "metadata": {},
   "source": [
    "```\n",
    "# 4. Largest palindrome product \n",
    "\n",
    "A palindromic number reads the same both ways. The largest palindrome \n",
    "made from the product of two 2-digit numbers is 9009 = 91 × 99.\n",
    "Find the largest palindrome made from the product of two 3-digit numbers.\n",
    "```"
   ]
  },
  {
   "cell_type": "code",
   "execution_count": 3,
   "metadata": {},
   "outputs": [],
   "source": [
    "!g++ -o exe/problem_4 problem_4.cpp\n",
    "!./exe/problem_4"
   ]
  }
 ],
 "metadata": {
  "kernelspec": {
   "display_name": "Python 3",
   "language": "python",
   "name": "python3"
  },
  "language_info": {
   "codemirror_mode": {
    "name": "ipython",
    "version": 3
   },
   "file_extension": ".py",
   "mimetype": "text/x-python",
   "name": "python",
   "nbconvert_exporter": "python",
   "pygments_lexer": "ipython3",
   "version": "3.10.10"
  },
  "orig_nbformat": 4
 },
 "nbformat": 4,
 "nbformat_minor": 2
}
