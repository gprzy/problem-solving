{
 "cells": [
  {
   "cell_type": "markdown",
   "metadata": {},
   "source": [
    "```\n",
    "# 4. Largest palindrome product \n",
    "\n",
    "A palindromic number reads the same both ways. The largest palindrome \n",
    "made from the product of two 2-digit numbers is 9009 = 91 × 99.\n",
    "Find the largest palindrome made from the product of two 3-digit numbers.\n",
    "```"
   ]
  },
  {
   "cell_type": "code",
   "execution_count": 1,
   "metadata": {},
   "outputs": [
    {
     "name": "stdout",
     "output_type": "stream",
     "text": [
      "largets palindrome made from the product of two 3-digit numbers\n",
      "906609\n"
     ]
    }
   ],
   "source": [
    "from problem_4 import *\n",
    "!python problem_4.py"
   ]
  }
 ],
 "metadata": {
  "kernelspec": {
   "display_name": "Python 3.9.7 ('base')",
   "language": "python",
   "name": "python3"
  },
  "language_info": {
   "codemirror_mode": {
    "name": "ipython",
    "version": 3
   },
   "file_extension": ".py",
   "mimetype": "text/x-python",
   "name": "python",
   "nbconvert_exporter": "python",
   "pygments_lexer": "ipython3",
   "version": "3.9.7"
  },
  "orig_nbformat": 4,
  "vscode": {
   "interpreter": {
    "hash": "30f07e33239fa8282e26e15725321d07a8b0c67c5d45bbf6a7e3668dfd7ffdbf"
   }
  }
 },
 "nbformat": 4,
 "nbformat_minor": 2
}
