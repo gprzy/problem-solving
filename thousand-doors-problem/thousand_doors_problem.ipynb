{
  "cells": [
    {
      "cell_type": "code",
      "execution_count": 2,
      "metadata": {
        "id": "8jhbRZcgigMx"
      },
      "outputs": [],
      "source": [
        "import matplotlib.pyplot as plt"
      ]
    },
    {
      "attachments": {},
      "cell_type": "markdown",
      "metadata": {
        "id": "-XN7LSHKeTbC"
      },
      "source": [
        "# Probelma dos 1000 Armários\n",
        "Numa escola, há um corredor com 1000 armários numerados de 1 a 1000, inicialmente todos fechados. 1000 alunos numerados de 1 a 1000, passam pelo corredor. O aluno de número $k$ reverte o estado de todos os armários cujos números são múltiplos de $k$, por exemplo, o aluno de número 4 mexe nos armários de números 4, 8, 12, (...) abrindo os que se encontram fechados e fechando os que encontram-se abertos. Ao final, depois da passagem do milésimo aluno, quais armários ficarão abertos?"
      ]
    },
    {
      "cell_type": "code",
      "execution_count": 22,
      "metadata": {
        "id": "iKna3Yq3eRj4"
      },
      "outputs": [],
      "source": [
        "def lockers_problem(n):\n",
        "    lockers = [0 for i in range(n)]\n",
        "    for student in range(1, n+1):\n",
        "        for locker in range(1, n+1):\n",
        "            if locker % student == 0:\n",
        "                if lockers[locker-1] == 0:\n",
        "                    lockers[locker-1] = 1\n",
        "                else:\n",
        "                    lockers[locker-1] = 0\n",
        "    return lockers"
      ]
    },
    {
      "cell_type": "code",
      "execution_count": 25,
      "metadata": {
        "colab": {
          "base_uri": "https://localhost:8080/"
        },
        "id": "ZipKKWqYgP7s",
        "outputId": "58995a07-69b4-4174-bef0-35c71b99f39c"
      },
      "outputs": [
        {
          "data": {
            "text/plain": [
              "[1,\n",
              " 4,\n",
              " 9,\n",
              " 16,\n",
              " 25,\n",
              " 36,\n",
              " 49,\n",
              " 64,\n",
              " 81,\n",
              " 100,\n",
              " 121,\n",
              " 144,\n",
              " 169,\n",
              " 196,\n",
              " 225,\n",
              " 256,\n",
              " 289,\n",
              " 324,\n",
              " 361,\n",
              " 400,\n",
              " 441,\n",
              " 484,\n",
              " 529,\n",
              " 576,\n",
              " 625,\n",
              " 676,\n",
              " 729,\n",
              " 784,\n",
              " 841,\n",
              " 900,\n",
              " 961]"
            ]
          },
          "execution_count": 25,
          "metadata": {},
          "output_type": "execute_result"
        }
      ],
      "source": [
        "# obtendo a configuração final dos armários\n",
        "lockers = lockers_problem(1000)\n",
        "\n",
        "# exibindo o número dos armários abertos ao final\n",
        "lockers_open = []\n",
        "\n",
        "for i in range(len(lockers)):\n",
        "    if lockers[i] == 1:\n",
        "        lockers_open.append(i+1)\n",
        "\n",
        "lockers_open"
      ]
    },
    {
      "cell_type": "code",
      "execution_count": 35,
      "metadata": {
        "colab": {
          "base_uri": "https://localhost:8080/",
          "height": 296
        },
        "id": "T-a9-nUzgQWX",
        "outputId": "eb2c5c6d-3852-4008-d14b-5dfb1936fc10"
      },
      "outputs": [
        {
          "data": {
            "image/png": "[encoded data removed]",
            "text/plain": [
              "<Figure size 432x288 with 1 Axes>"
            ]
          },
          "metadata": {
            "needs_background": "light"
          },
          "output_type": "display_data"
        }
      ],
      "source": [
        "plt.grid(linestyle=':');\n",
        "plt.plot(lockers_open, range(len(lockers_open)), color='b');\n",
        "\n",
        "plt.scatter(lockers_open, \n",
        "            range(len(lockers_open)),\n",
        "            marker='o', \n",
        "            color='r', \n",
        "            zorder=3, \n",
        "            alpha=.6,\n",
        "            label='Armário aberto');\n",
        "\n",
        "plt.title('Armários fechados $vs.$ Armários abertos');\n",
        "plt.xlabel('Nº dos armários');\n",
        "plt.legend();"
      ]
    }
  ],
  "metadata": {
    "colab": {
      "collapsed_sections": [],
      "name": "natureza-discreta-puc.ipynb",
      "provenance": []
    },
    "kernelspec": {
      "display_name": "Python 3",
      "name": "python3"
    },
    "language_info": {
      "name": "python"
    }
  },
  "nbformat": 4,
  "nbformat_minor": 0
}
